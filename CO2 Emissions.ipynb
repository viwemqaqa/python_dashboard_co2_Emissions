{
 "cells": [
  {
   "cell_type": "markdown",
   "id": "14559bb8-f3aa-4e80-8055-f0ce0905847b",
   "metadata": {},
   "source": [
    "# CO2 Emissions Dashboard\n",
    "\n",
    "## Introduction \n",
    "In recent years, concern over how greenhouse gas emissions, particularly **carbon dioxide (CO2)**, affect the temperature of the planet has grown significantly. Many human activities, such as the combustion of fossil fuels, deforestation, and industrial operations, all result in CO2 emissions. Creating successful climate policies and reducing the effects of climate change depend on knowing how much CO2 each nation emits.\n",
    "\n",
    "## Dataset\n",
    "The dataset on CO2 emissions offers a thorough summary of the total quantity of CO2 emitted by every nation. The dataset contains data on CO2 emissions by nation between 1960 to the present. It includes all nations and is compiled from a number of sources, including the International Energy Agency and the United Nations Framework Convention on Climate Change (UNFCCC) (IEA).\n",
    "\n",
    "Researchers, decision-makers, and the general public can use the dataset to acquire understanding of the relative contributions of various nations to global CO2 emissions. Additionally, it can be used to evaluate the success of climate policy and track changes in emissions over time.\n",
    "\n",
    "The CO2 emissions dataset is a crucial tool for comprehending the global climate crisis and for creating mitigation plans for CO2 emissions' negative effects on the environment."
   ]
  },
  {
   "cell_type": "markdown",
   "id": "b73352ea-7650-4833-a07a-9b6e4c73f194",
   "metadata": {},
   "source": [
    "## Import Packages "
   ]
  },
  {
   "cell_type": "code",
   "execution_count": 3,
   "id": "9808b678-601e-4f42-9cbf-c68c62318ea0",
   "metadata": {},
   "outputs": [],
   "source": [
    "import panel as pn\n",
    "import pandas as pd\n",
    "import param\n",
    "import hvplot.pandas\n",
    "\n",
    "from pycountry_convert import country_name_to_country_alpha2, country_alpha2_to_continent_code"
   ]
  },
  {
   "cell_type": "markdown",
   "id": "86a559c3-2262-422f-81fa-4dd2a8802e9c",
   "metadata": {},
   "source": [
    "## Load Dataset"
   ]
  },
  {
   "cell_type": "code",
   "execution_count": 4,
   "id": "ff37a09a-5149-476c-bb5d-240ca6699d43",
   "metadata": {},
   "outputs": [],
   "source": [
    "CO2_df = pd.read_csv('data/co2_emissions_kt_by_country.csv')"
   ]
  },
  {
   "cell_type": "code",
   "execution_count": 5,
   "id": "0918d534-4e7b-4b7f-a4e7-949b1cceaed3",
   "metadata": {},
   "outputs": [
    {
     "name": "stdout",
     "output_type": "stream",
     "text": [
      "<class 'pandas.core.frame.DataFrame'>\n",
      "RangeIndex: 13953 entries, 0 to 13952\n",
      "Data columns (total 4 columns):\n",
      " #   Column        Non-Null Count  Dtype  \n",
      "---  ------        --------------  -----  \n",
      " 0   country_code  13953 non-null  object \n",
      " 1   country_name  13953 non-null  object \n",
      " 2   year          13953 non-null  int64  \n",
      " 3   value         13953 non-null  float64\n",
      "dtypes: float64(1), int64(1), object(2)\n",
      "memory usage: 436.2+ KB\n"
     ]
    }
   ],
   "source": [
    "CO2_df.info()"
   ]
  },
  {
   "cell_type": "code",
   "execution_count": 6,
   "id": "07fb06df-ef15-4f1d-99d4-dcd112b0ca57",
   "metadata": {},
   "outputs": [
    {
     "data": {
      "text/html": [
       "<div>\n",
       "<style scoped>\n",
       "    .dataframe tbody tr th:only-of-type {\n",
       "        vertical-align: middle;\n",
       "    }\n",
       "\n",
       "    .dataframe tbody tr th {\n",
       "        vertical-align: top;\n",
       "    }\n",
       "\n",
       "    .dataframe thead th {\n",
       "        text-align: right;\n",
       "    }\n",
       "</style>\n",
       "<table border=\"1\" class=\"dataframe\">\n",
       "  <thead>\n",
       "    <tr style=\"text-align: right;\">\n",
       "      <th></th>\n",
       "      <th>country_code</th>\n",
       "      <th>country_name</th>\n",
       "      <th>year</th>\n",
       "      <th>value</th>\n",
       "    </tr>\n",
       "  </thead>\n",
       "  <tbody>\n",
       "    <tr>\n",
       "      <th>0</th>\n",
       "      <td>ABW</td>\n",
       "      <td>Aruba</td>\n",
       "      <td>1960</td>\n",
       "      <td>11092.675</td>\n",
       "    </tr>\n",
       "    <tr>\n",
       "      <th>1</th>\n",
       "      <td>ABW</td>\n",
       "      <td>Aruba</td>\n",
       "      <td>1961</td>\n",
       "      <td>11576.719</td>\n",
       "    </tr>\n",
       "    <tr>\n",
       "      <th>2</th>\n",
       "      <td>ABW</td>\n",
       "      <td>Aruba</td>\n",
       "      <td>1962</td>\n",
       "      <td>12713.489</td>\n",
       "    </tr>\n",
       "    <tr>\n",
       "      <th>3</th>\n",
       "      <td>ABW</td>\n",
       "      <td>Aruba</td>\n",
       "      <td>1963</td>\n",
       "      <td>12178.107</td>\n",
       "    </tr>\n",
       "    <tr>\n",
       "      <th>4</th>\n",
       "      <td>ABW</td>\n",
       "      <td>Aruba</td>\n",
       "      <td>1964</td>\n",
       "      <td>11840.743</td>\n",
       "    </tr>\n",
       "  </tbody>\n",
       "</table>\n",
       "</div>"
      ],
      "text/plain": [
       "  country_code country_name  year      value\n",
       "0          ABW        Aruba  1960  11092.675\n",
       "1          ABW        Aruba  1961  11576.719\n",
       "2          ABW        Aruba  1962  12713.489\n",
       "3          ABW        Aruba  1963  12178.107\n",
       "4          ABW        Aruba  1964  11840.743"
      ]
     },
     "execution_count": 6,
     "metadata": {},
     "output_type": "execute_result"
    }
   ],
   "source": [
    "CO2_df.head()"
   ]
  },
  {
   "cell_type": "code",
   "execution_count": 7,
   "id": "2bfae2b0-ecff-4ab9-9bc2-bd3446a744d5",
   "metadata": {},
   "outputs": [
    {
     "data": {
      "text/html": [
       "<div>\n",
       "<style scoped>\n",
       "    .dataframe tbody tr th:only-of-type {\n",
       "        vertical-align: middle;\n",
       "    }\n",
       "\n",
       "    .dataframe tbody tr th {\n",
       "        vertical-align: top;\n",
       "    }\n",
       "\n",
       "    .dataframe thead th {\n",
       "        text-align: right;\n",
       "    }\n",
       "</style>\n",
       "<table border=\"1\" class=\"dataframe\">\n",
       "  <thead>\n",
       "    <tr style=\"text-align: right;\">\n",
       "      <th></th>\n",
       "      <th>year</th>\n",
       "      <th>value</th>\n",
       "    </tr>\n",
       "  </thead>\n",
       "  <tbody>\n",
       "    <tr>\n",
       "      <th>count</th>\n",
       "      <td>13953.000000</td>\n",
       "      <td>1.395300e+04</td>\n",
       "    </tr>\n",
       "    <tr>\n",
       "      <th>mean</th>\n",
       "      <td>1990.732316</td>\n",
       "      <td>8.254983e+05</td>\n",
       "    </tr>\n",
       "    <tr>\n",
       "      <th>std</th>\n",
       "      <td>17.187585</td>\n",
       "      <td>2.788923e+06</td>\n",
       "    </tr>\n",
       "    <tr>\n",
       "      <th>min</th>\n",
       "      <td>1960.000000</td>\n",
       "      <td>-8.067400e+01</td>\n",
       "    </tr>\n",
       "    <tr>\n",
       "      <th>25%</th>\n",
       "      <td>1976.000000</td>\n",
       "      <td>1.100000e+03</td>\n",
       "    </tr>\n",
       "    <tr>\n",
       "      <th>50%</th>\n",
       "      <td>1992.000000</td>\n",
       "      <td>1.390000e+04</td>\n",
       "    </tr>\n",
       "    <tr>\n",
       "      <th>75%</th>\n",
       "      <td>2006.000000</td>\n",
       "      <td>1.642779e+05</td>\n",
       "    </tr>\n",
       "    <tr>\n",
       "      <th>max</th>\n",
       "      <td>2019.000000</td>\n",
       "      <td>3.434401e+07</td>\n",
       "    </tr>\n",
       "  </tbody>\n",
       "</table>\n",
       "</div>"
      ],
      "text/plain": [
       "               year         value\n",
       "count  13953.000000  1.395300e+04\n",
       "mean    1990.732316  8.254983e+05\n",
       "std       17.187585  2.788923e+06\n",
       "min     1960.000000 -8.067400e+01\n",
       "25%     1976.000000  1.100000e+03\n",
       "50%     1992.000000  1.390000e+04\n",
       "75%     2006.000000  1.642779e+05\n",
       "max     2019.000000  3.434401e+07"
      ]
     },
     "execution_count": 7,
     "metadata": {},
     "output_type": "execute_result"
    }
   ],
   "source": [
    "CO2_df.describe()"
   ]
  },
  {
   "cell_type": "markdown",
   "id": "acdc040a-8a75-4103-9837-3d632221beb4",
   "metadata": {},
   "source": [
    "## Preprocessing"
   ]
  },
  {
   "cell_type": "markdown",
   "id": "18944574-50d5-46eb-89bd-1ac1959cc962",
   "metadata": {},
   "source": [
    "### Add Continent Column"
   ]
  },
  {
   "cell_type": "code",
   "execution_count": 8,
   "id": "c4fcb895-a321-49b0-beb1-0896469abdd3",
   "metadata": {},
   "outputs": [],
   "source": [
    "def add_continent(country_name):\n",
    "    \"\"\"\n",
    "    Returns the continent for a given country name using pycountry_convert library.\n",
    "\n",
    "    Args:\n",
    "        country_name (str): Name of the country.\n",
    "\n",
    "    Returns:\n",
    "        str: Continent name.\n",
    "    \"\"\"\n",
    "    try:\n",
    "        country_alpha2 = country_name_to_country_alpha2(country_name)\n",
    "        continent_code = country_alpha2_to_continent_code(country_alpha2)\n",
    "        continent_names = {\n",
    "            'AF': 'Africa',\n",
    "            'AN': 'Antarctica',\n",
    "            'AS': 'Asia',\n",
    "            'EU': 'Europe',\n",
    "            'NA': 'North America',\n",
    "            'OC': 'Oceania',\n",
    "            'SA': 'South America'\n",
    "        }\n",
    "        continent_name = continent_names.get(continent_code)\n",
    "        return continent_name\n",
    "    except Exception as e:\n",
    "        print(\"Error: \", str(e))\n",
    "        return None\n"
   ]
  },
  {
   "cell_type": "code",
   "execution_count": null,
   "id": "06cdd2dd-e2d3-41c9-a09b-3e12b4a1dc9e",
   "metadata": {},
   "outputs": [],
   "source": [
    "CO2_df[\"continent\"] = CO2_df['country_name'].apply(add_continent)"
   ]
  },
  {
   "cell_type": "code",
   "execution_count": 10,
   "id": "31b4cc11-253c-4c66-9196-9ca81912559c",
   "metadata": {},
   "outputs": [
    {
     "data": {
      "text/html": [
       "<div>\n",
       "<style scoped>\n",
       "    .dataframe tbody tr th:only-of-type {\n",
       "        vertical-align: middle;\n",
       "    }\n",
       "\n",
       "    .dataframe tbody tr th {\n",
       "        vertical-align: top;\n",
       "    }\n",
       "\n",
       "    .dataframe thead th {\n",
       "        text-align: right;\n",
       "    }\n",
       "</style>\n",
       "<table border=\"1\" class=\"dataframe\">\n",
       "  <thead>\n",
       "    <tr style=\"text-align: right;\">\n",
       "      <th></th>\n",
       "      <th>country_code</th>\n",
       "      <th>country_name</th>\n",
       "      <th>year</th>\n",
       "      <th>value</th>\n",
       "      <th>continent</th>\n",
       "    </tr>\n",
       "  </thead>\n",
       "  <tbody>\n",
       "    <tr>\n",
       "      <th>0</th>\n",
       "      <td>ABW</td>\n",
       "      <td>Aruba</td>\n",
       "      <td>1960</td>\n",
       "      <td>11092.675</td>\n",
       "      <td>North America</td>\n",
       "    </tr>\n",
       "    <tr>\n",
       "      <th>1</th>\n",
       "      <td>ABW</td>\n",
       "      <td>Aruba</td>\n",
       "      <td>1961</td>\n",
       "      <td>11576.719</td>\n",
       "      <td>North America</td>\n",
       "    </tr>\n",
       "    <tr>\n",
       "      <th>2</th>\n",
       "      <td>ABW</td>\n",
       "      <td>Aruba</td>\n",
       "      <td>1962</td>\n",
       "      <td>12713.489</td>\n",
       "      <td>North America</td>\n",
       "    </tr>\n",
       "    <tr>\n",
       "      <th>3</th>\n",
       "      <td>ABW</td>\n",
       "      <td>Aruba</td>\n",
       "      <td>1963</td>\n",
       "      <td>12178.107</td>\n",
       "      <td>North America</td>\n",
       "    </tr>\n",
       "    <tr>\n",
       "      <th>4</th>\n",
       "      <td>ABW</td>\n",
       "      <td>Aruba</td>\n",
       "      <td>1964</td>\n",
       "      <td>11840.743</td>\n",
       "      <td>North America</td>\n",
       "    </tr>\n",
       "  </tbody>\n",
       "</table>\n",
       "</div>"
      ],
      "text/plain": [
       "  country_code country_name  year      value      continent\n",
       "0          ABW        Aruba  1960  11092.675  North America\n",
       "1          ABW        Aruba  1961  11576.719  North America\n",
       "2          ABW        Aruba  1962  12713.489  North America\n",
       "3          ABW        Aruba  1963  12178.107  North America\n",
       "4          ABW        Aruba  1964  11840.743  North America"
      ]
     },
     "execution_count": 10,
     "metadata": {},
     "output_type": "execute_result"
    }
   ],
   "source": [
    "CO2_df.head()"
   ]
  },
  {
   "cell_type": "code",
   "execution_count": 11,
   "id": "b01d286a-b7ce-4417-9342-377e1a0b1940",
   "metadata": {},
   "outputs": [
    {
     "name": "stdout",
     "output_type": "stream",
     "text": [
      "<class 'pandas.core.frame.DataFrame'>\n",
      "RangeIndex: 13953 entries, 0 to 13952\n",
      "Data columns (total 5 columns):\n",
      " #   Column        Non-Null Count  Dtype  \n",
      "---  ------        --------------  -----  \n",
      " 0   country_code  13953 non-null  object \n",
      " 1   country_name  13953 non-null  object \n",
      " 2   year          13953 non-null  int64  \n",
      " 3   value         13953 non-null  float64\n",
      " 4   continent     10075 non-null  object \n",
      "dtypes: float64(1), int64(1), object(3)\n",
      "memory usage: 545.2+ KB\n"
     ]
    }
   ],
   "source": [
    "CO2_df.info()"
   ]
  },
  {
   "cell_type": "markdown",
   "id": "3afb6477-f8d3-4505-a3e4-2285ce16df8e",
   "metadata": {},
   "source": [
    "## Drop rows with null vallues"
   ]
  },
  {
   "cell_type": "code",
   "execution_count": 12,
   "id": "e27c9996-69fe-4d62-9ff8-a3c793f364c9",
   "metadata": {},
   "outputs": [],
   "source": [
    "CO2_df = CO2_df.dropna()"
   ]
  },
  {
   "cell_type": "code",
   "execution_count": 13,
   "id": "764190a1-aa93-4201-a918-8ca59c171f34",
   "metadata": {},
   "outputs": [
    {
     "data": {
      "text/plain": [
       "country_code    0\n",
       "country_name    0\n",
       "year            0\n",
       "value           0\n",
       "continent       0\n",
       "dtype: int64"
      ]
     },
     "execution_count": 13,
     "metadata": {},
     "output_type": "execute_result"
    }
   ],
   "source": [
    "CO2_df.isnull().sum()"
   ]
  },
  {
   "cell_type": "markdown",
   "id": "d6ef77fe-786a-44c5-b812-0408215f8bc3",
   "metadata": {},
   "source": [
    "## Build Dashboard"
   ]
  },
  {
   "cell_type": "code",
   "execution_count": 92,
   "id": "f56b0055-0097-4ea6-9b08-2d6f0a6436b9",
   "metadata": {
    "tags": []
   },
   "outputs": [],
   "source": [
    "class CO2Emmisions(param.Parameterized):\n",
    "    \n",
    "    continent     = param.ObjectSelector()\n",
    "    country       = param.ObjectSelector()\n",
    "    year          = param.Integer(2000, bounds=(1960, 2019))\n",
    "    country_table = param.Parameter()\n",
    "    co2_df        = param.DataFrame()\n",
    "    \n",
    "    #constructor\n",
    "    def __init__(self, co2_data, **params):\n",
    "        super().__init__(**params)\n",
    "        self.co2_df = co2_data\n",
    "        \n",
    "        self.country_table = pn.widgets.Tabulator( pagination='remote', page_size = 10, \n",
    "                                             show_index=False, hidden_columns =['year', 'continent'])\n",
    "        \n",
    "        self.get_continent()\n",
    "    \n",
    "    \n",
    "    def get_continent(self):\n",
    "    '''\n",
    "    Retrieves all the continent names in the dataset into a list and \n",
    "    then populates the continent selector object\n",
    "    ''' \n",
    "        try:\n",
    "            continents = self.co2_df['continent'].drop_duplicates()\n",
    "            self.param['continent'].objects = sorted(continents.to_list())\n",
    "            self.continent = continents[0]\n",
    "            \n",
    "        except Exception as e:\n",
    "            print(\"Error: \", str(e))\n",
    "\n",
    "    @param.depends('continent', watch=True)\n",
    "    def get_countries(self):\n",
    "        \"\"\"\n",
    "        Retrieves the countries that belong to the continent selected\n",
    "        then populates the country selector object.\n",
    "\n",
    "        \"\"\"\n",
    "        try:\n",
    "            countries = self.co2_df[self.co2_df['continent'] == self.continent]['country_name'].drop_duplicates().tolist()\n",
    "            self.param['country'].objects = countries\n",
    "            self.country = countries[0]\n",
    "        \n",
    "        except Exception as e:\n",
    "            print(\"Error: \", str(e))\n",
    "            return None\n",
    "        \n",
    "    @param.depends('year')\n",
    "    def co2_continent_plot(self):\n",
    "    '''\n",
    "    Returns a line plot of the CO2 level vs Year by country\n",
    "    \n",
    "    return: hvplot line plot \n",
    "    ''' \n",
    "        co2_continent = (\n",
    "            self.co2_df[\n",
    "                (self.co2_df.year <= self.year)\n",
    "            ]\n",
    "            .groupby(['continent', 'year'])['value'].mean()\n",
    "            .reset_index()\n",
    "            .sort_values(by='year')  \n",
    "            .reset_index(drop=True)\n",
    "        )\n",
    "\n",
    "        return co2_continent.hvplot(x='year', by='continent', y='value', line_width=2, height=400, width=650, yaxis=1**6, title=\"CO2 emission by Continent\")\n",
    "        \n",
    "    \n",
    "    def co2_country_table(self):\n",
    "    '''\n",
    "    Returns a table with a filtered list by continent and year of the country, CO2 levels, year \n",
    "    \n",
    "    return: pandas table\n",
    "    '''   \n",
    "        try:\n",
    "            co2_country = (\n",
    "                self.co2_df[\n",
    "                    (self.co2_df.year <= self.year) & (self.co2_df.continent == self.continent)\n",
    "                ]\n",
    "                .reset_index()\n",
    "                .sort_values(by='year')  \n",
    "                .reset_index(drop=True)\n",
    "            )\n",
    "            \n",
    "            self.country_table.value = co2_country\n",
    "        \n",
    "        except Exception as e:\n",
    "            print(\"Error: \", str(e))\n",
    "            return None\n",
    "    \n",
    "    def co2_country_plot(self):\n",
    "        try:\n",
    "            co2_country = (\n",
    "                self.co2_df[\n",
    "                    (self.co2_df.year <= self.year) & (self.co2_df.continent == self.continent)\n",
    "                ]\n",
    "                .reset_index()\n",
    "                .sort_values(by='year')  \n",
    "                .reset_index(drop=True)\n",
    "            )\n",
    "            \n",
    "            return co2_country.hvplot(x = 'year', by='country_name', y='value',line_width=2, height=400, width=650, title=\"CO2 emission by Country\")\n",
    "        \n",
    "        except Exception as e:\n",
    "            print(\"Error: \", str(e))\n",
    "            return None\n",
    "        \n",
    "\n",
    "\n",
    "    @param.depends('country')\n",
    "    def view_map(self):\n",
    "        iframe = \"\"\"\n",
    "        <iframe width=\"600\" height=\"300\" src=\"https://maps.google.com/maps?q={country}&z=6&output=embed\"\n",
    "        frameborder=\"0\" scrolling=\"no\" marginheight=\"0\" marginwidth=\"0\"></iframe>\n",
    "        \"\"\".format(country=self.country)\n",
    "        return pn.pane.HTML(iframe, height=400)\n",
    "    \n",
    "    @param.depends('continent','country', 'year', watch=True)\n",
    "    def update(self):\n",
    "        self.co2_country_table()\n",
    "        self.co2_country_plot()\n",
    "        "
   ]
  },
  {
   "cell_type": "markdown",
   "id": "87cb5cf7-a2e5-498f-8e68-7e4bb1194c21",
   "metadata": {},
   "source": [
    "## Use Panel FastListTemplate to create Dashboard"
   ]
  },
  {
   "cell_type": "code",
   "execution_count": null,
   "id": "9634e13b-37dd-4556-a74d-2703c578df54",
   "metadata": {
    "tags": []
   },
   "outputs": [],
   "source": [
    "co2EmmisionsViewer = CO2Emmisions(CO2_df)\n",
    "\n",
    "co2_dashboard = pn.template.FastListTemplate(\n",
    "    title=\"CO2 Emissions\",\n",
    "    sidebar=[pn.pane.Markdown(\"# CO2 Emissions and Climate Change\"), \n",
    "             pn.pane.Markdown(\"#### Carbon dioxide emissions are the primary driver of global climate change.\"), \n",
    "             pn.pane.Markdown(\"## Settings\"),   \n",
    "             co2EmmisionsViewer.param.continent,\n",
    "             co2EmmisionsViewer.param.country,\n",
    "             co2EmmisionsViewer.param.year],\n",
    "    main=[\n",
    "        pn.Row(\n",
    "            pn.Column(\n",
    "                co2EmmisionsViewer.co2_country_plot,\n",
    "                '#### CO2 emission by Country',\n",
    "                co2EmmisionsViewer.country_table,\n",
    "            ),\n",
    "            pn.Column(\n",
    "                co2EmmisionsViewer.co2_continent_plot,\n",
    "                '#### Location View',\n",
    "                co2EmmisionsViewer.view_map,\n",
    "            )\n",
    "        )\n",
    "    ],\n",
    ").show();"
   ]
  },
  {
   "cell_type": "code",
   "execution_count": null,
   "id": "02435e5b-24b0-4698-89c4-41dab37cf362",
   "metadata": {},
   "outputs": [],
   "source": []
  }
 ],
 "metadata": {
  "kernelspec": {
   "display_name": "Python 3 (ipykernel)",
   "language": "python",
   "name": "python3"
  },
  "language_info": {
   "codemirror_mode": {
    "name": "ipython",
    "version": 3
   },
   "file_extension": ".py",
   "mimetype": "text/x-python",
   "name": "python",
   "nbconvert_exporter": "python",
   "pygments_lexer": "ipython3",
   "version": "3.10.10"
  }
 },
 "nbformat": 4,
 "nbformat_minor": 5
}
